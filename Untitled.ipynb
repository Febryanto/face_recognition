{
 "cells": [
  {
   "cell_type": "code",
   "execution_count": 23,
   "id": "c1b7fbc5",
   "metadata": {},
   "outputs": [
    {
     "name": "stderr",
     "output_type": "stream",
     "text": [
      "/Users/snowden/anaconda3/lib/python3.11/site-packages/PIL/Image.py:970: UserWarning: Palette images with Transparency expressed in bytes should be converted to RGBA images\n",
      "  warnings.warn(\n"
     ]
    }
   ],
   "source": [
    "import face_recognition\n",
    "from PIL import Image, ImageDraw\n",
    "\n",
    "image_of_bill = face_recognition.load_image_file('./img/known/Bill Gates.jpg')\n",
    "bill_face_encoding = face_recognition.face_encodings(image_of_bill)[0]\n",
    "\n",
    "image_of_steve = face_recognition.load_image_file('./img/known/Steve Jobs.jpg')\n",
    "steve_face_encoding = face_recognition.face_encodings(image_of_steve)[0]\n",
    "\n",
    "image_of_elon = face_recognition.load_image_file('./img/known/Elon Musk.jpg')\n",
    "elon_face_encoding = face_recognition.face_encodings(image_of_elon)[0]\n",
    "\n",
    "#  Create arrays of encodings and names\n",
    "known_face_encodings = [\n",
    "  bill_face_encoding,\n",
    "  steve_face_encoding,\n",
    "  elon_face_encoding\n",
    "]\n",
    "\n",
    "known_face_names = [\n",
    "  \"Bill Gates\",\n",
    "  \"Steve Jobs\",\n",
    "  \"Elon Musk\"\n",
    "]\n",
    "\n",
    "# Load test image to find faces in\n",
    "test_image = face_recognition.load_image_file('./img/groups/team1.jpg')\n",
    "\n",
    "# Find faces in test image\n",
    "face_locations = face_recognition.face_locations(test_image)\n",
    "face_encodings = face_recognition.face_encodings(test_image, face_locations)\n",
    "\n",
    "# Convert to PIL format\n",
    "pil_image = Image.fromarray(test_image)\n",
    "\n",
    "# Create a ImageDraw instance\n",
    "draw = ImageDraw.Draw(pil_image)\n",
    "\n",
    "# Loop through faces in test image\n",
    "for(top, right, bottom, left), face_encoding in zip(face_locations, face_encodings):\n",
    "  matches = face_recognition.compare_faces(known_face_encodings, face_encoding)\n",
    "\n",
    "  name = \"Unknown Person\"\n",
    "\n",
    "  # If match\n",
    "  if True in matches:\n",
    "    first_match_index = matches.index(True)\n",
    "    name = known_face_names[first_match_index]\n",
    "  \n",
    "  # Draw box\n",
    "  draw.rectangle(((left, top), (right, bottom)), outline=(255,255,0))\n",
    "\n",
    "  # Draw label\n",
    "  \n",
    "  draw.rectangle(((left,bottom - 10), (right, bottom)), fill=(255,255,0), outline=(255,255,0))\n",
    "  draw.text((left + 6, bottom  - 10), name, fill=(0,0,0))\n",
    "\n",
    "del draw\n",
    "\n",
    "# Display image\n",
    "pil_image.show()\n",
    "\n",
    "# Save image\n",
    "pil_image.save('identify.jpg')"
   ]
  },
  {
   "cell_type": "code",
   "execution_count": null,
   "id": "9eee46f8",
   "metadata": {},
   "outputs": [],
   "source": []
  }
 ],
 "metadata": {
  "kernelspec": {
   "display_name": "Python 3 (ipykernel)",
   "language": "python",
   "name": "python3"
  },
  "language_info": {
   "codemirror_mode": {
    "name": "ipython",
    "version": 3
   },
   "file_extension": ".py",
   "mimetype": "text/x-python",
   "name": "python",
   "nbconvert_exporter": "python",
   "pygments_lexer": "ipython3",
   "version": "3.11.4"
  }
 },
 "nbformat": 4,
 "nbformat_minor": 5
}
